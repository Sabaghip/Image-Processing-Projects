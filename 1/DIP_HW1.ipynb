{
  "nbformat": 4,
  "nbformat_minor": 0,
  "metadata": {
    "colab": {
      "provenance": []
    },
    "kernelspec": {
      "name": "python3",
      "display_name": "Python 3"
    },
    "language_info": {
      "name": "python"
    }
  },
  "cells": [
    {
      "cell_type": "markdown",
      "source": [
        "<div dir=rtl>\n",
        "<font size = \"6\">قبل از هر کاری، با استفاده از مسیری که در خط پایین ذکر شده، یک کپی از این نوتبوک در گوگل درایو خودتان بسازید و تمرین را در آن نسخه حل کنید.</font>\n",
        "</div>\n",
        "\n",
        "<div>\n",
        "<font size = \"4\">\n",
        "File --> Save a copy in Drive\n",
        "</font>\n",
        "</div>"
      ],
      "metadata": {
        "id": "bqyAdTKASWXy"
      }
    },
    {
      "cell_type": "markdown",
      "source": [
        "# Question 0: Run the cell below without modifying it.\n",
        "\n",
        "<div dir=rtl>\n",
        "<font size = \"6\">بدون اعمال هیچ تغییری در بلوک زیر، آن را اجرا کنید.</font>\n",
        "</div>"
      ],
      "metadata": {
        "id": "MyDD5bs18ANQ"
      }
    },
    {
      "cell_type": "code",
      "execution_count": null,
      "metadata": {
        "id": "cTVLxAiS1DEN"
      },
      "outputs": [],
      "source": [
        "#@title Downloading the necessary data for this homework\n",
        "!pip install pydicom\n",
        "!wget --no-check-certificate 'https://drive.google.com/uc?export=download&id=1OAvkWv4guVgXsCJ7nA20Wi0YGCoX0q37' -O 'HW1_data.zip'\n",
        "!unzip HW1_data.zip"
      ]
    },
    {
      "cell_type": "markdown",
      "source": [
        "# The Imports"
      ],
      "metadata": {
        "id": "wHWKc29uYAzx"
      }
    },
    {
      "cell_type": "code",
      "source": [
        "###\n",
        "# ENTER YOUR CODE HERE.\n",
        "###"
      ],
      "metadata": {
        "id": "P567fEg1Xx8N"
      },
      "execution_count": null,
      "outputs": []
    },
    {
      "cell_type": "markdown",
      "source": [
        "# Any Helper Functions\n",
        "\n",
        "<div dir=rtl>\n",
        "<font size = \"6\">در صورت نیاز یا برای راحتی خودتان می‌توانید توابع کمکی‌ای (مثلا برای عملیات‌های پر تکرار) این جا تعریف کنید.</font>\n",
        "</div>"
      ],
      "metadata": {
        "id": "ZASz1wNWok2b"
      }
    },
    {
      "cell_type": "code",
      "source": [
        "###\n",
        "# ENTER YOUR CODE HERE.\n",
        "###"
      ],
      "metadata": {
        "id": "OnVeCMKGok2k"
      },
      "execution_count": null,
      "outputs": []
    },
    {
      "cell_type": "markdown",
      "source": [
        "# Question 4: (20%)"
      ],
      "metadata": {
        "id": "Zw20cDbGT4cn"
      }
    },
    {
      "cell_type": "code",
      "source": [
        "#@title Q4 - Part 1 (25%)\n",
        "###\n",
        "# ENTER YOUR CODE HERE.\n",
        "###"
      ],
      "metadata": {
        "id": "xFA4q2ZwUMqv"
      },
      "execution_count": null,
      "outputs": []
    },
    {
      "cell_type": "markdown",
      "source": [
        "Q4 - Part 1 Explanation:\n",
        "<div dir=rtl>\n",
        "<font size = \"5\">{متن مورد نظر در این جا نوشته شود.\n",
        "\n",
        " برای رفتن به خط بعد، دو بار اینتر بزنید.}</font><br />\n",
        "</div>"
      ],
      "metadata": {
        "id": "0uLcTkGUVBj5"
      }
    },
    {
      "cell_type": "code",
      "source": [
        "#@title Q4 - Part 2 (40%)\n",
        "###\n",
        "# ENTER YOUR CODE HERE.\n",
        "###"
      ],
      "metadata": {
        "id": "NnF451ezUhIp"
      },
      "execution_count": null,
      "outputs": []
    },
    {
      "cell_type": "code",
      "source": [
        "#@title Q4 - Part 3 (35%)\n",
        "###\n",
        "# ENTER YOUR CODE HERE.\n",
        "###"
      ],
      "metadata": {
        "id": "fiiHyxcnUheg"
      },
      "execution_count": null,
      "outputs": []
    },
    {
      "cell_type": "markdown",
      "source": [
        "# Question 5: (20%)"
      ],
      "metadata": {
        "id": "N7K4QQpST_6y"
      }
    },
    {
      "cell_type": "code",
      "source": [
        "#@title Q5 - Part 1 (10%)\n",
        "###\n",
        "# ENTER YOUR CODE HERE.\n",
        "###"
      ],
      "metadata": {
        "id": "0tymnExfVhqS"
      },
      "execution_count": null,
      "outputs": []
    },
    {
      "cell_type": "code",
      "source": [
        "#@title Q5 - Part 2 (10%)\n",
        "###\n",
        "# ENTER YOUR CODE HERE.\n",
        "###"
      ],
      "metadata": {
        "id": "ZCxtJms9qLri"
      },
      "execution_count": null,
      "outputs": []
    },
    {
      "cell_type": "code",
      "source": [
        "#@title Q5 - Part 3 (30%)\n",
        "###\n",
        "# ENTER YOUR CODE HERE.\n",
        "###"
      ],
      "metadata": {
        "id": "cduVWx5vqL5B"
      },
      "execution_count": null,
      "outputs": []
    },
    {
      "cell_type": "code",
      "source": [
        "#@title Q5 - Part 4 (15%)\n",
        "###\n",
        "# ENTER YOUR CODE HERE.\n",
        "###"
      ],
      "metadata": {
        "id": "ka_1hdzMqSrc"
      },
      "execution_count": null,
      "outputs": []
    },
    {
      "cell_type": "code",
      "source": [
        "#@title Q5 - Part 5 (15%)\n",
        "###\n",
        "# ENTER YOUR CODE HERE.\n",
        "###"
      ],
      "metadata": {
        "id": "BsEIXeOLqSry"
      },
      "execution_count": null,
      "outputs": []
    },
    {
      "cell_type": "markdown",
      "source": [
        "Q5 - Part 6 Explanation (20%):\n",
        "<div dir=rtl>\n",
        "<font size = \"5\">{متن مورد نظر در این جا نوشته شود.\n",
        "\n",
        " برای رفتن به خط بعد، دو بار اینتر بزنید.}</font><br />\n",
        "</div>"
      ],
      "metadata": {
        "id": "v9IuWV1MqvQh"
      }
    },
    {
      "cell_type": "markdown",
      "source": [
        "# Question 6: (35%)"
      ],
      "metadata": {
        "id": "0Cf3wDTLUAMv"
      }
    },
    {
      "cell_type": "code",
      "source": [
        "#@title Q6 - Part 1 (5%)\n",
        "###\n",
        "# ENTER YOUR CODE HERE.\n",
        "###"
      ],
      "metadata": {
        "id": "lwtX9_ruVtO6"
      },
      "execution_count": null,
      "outputs": []
    },
    {
      "cell_type": "code",
      "source": [
        "#@title Q6 - Part 2 (5%)\n",
        "###\n",
        "# ENTER YOUR CODE HERE.\n",
        "###"
      ],
      "metadata": {
        "id": "n6_o-uqrVtO6"
      },
      "execution_count": null,
      "outputs": []
    },
    {
      "cell_type": "code",
      "source": [
        "#@title Q6 - Part 3 (25%)\n",
        "###\n",
        "# ENTER YOUR CODE HERE.\n",
        "###"
      ],
      "metadata": {
        "id": "nj9DidiVVtO7"
      },
      "execution_count": null,
      "outputs": []
    },
    {
      "cell_type": "code",
      "source": [
        "#@title Q6 - Part 4 (20%)\n",
        "###\n",
        "# ENTER YOUR CODE HERE.\n",
        "###"
      ],
      "metadata": {
        "id": "dsnaoYLxVtO7"
      },
      "execution_count": null,
      "outputs": []
    },
    {
      "cell_type": "code",
      "source": [
        "#@title Q6 - Part 5 (10%)\n",
        "###\n",
        "# ENTER YOUR CODE HERE.\n",
        "###"
      ],
      "metadata": {
        "id": "HlgKJE2YVtO7"
      },
      "execution_count": null,
      "outputs": []
    },
    {
      "cell_type": "markdown",
      "source": [
        "Q6 - Part 6 Explanation (10%):\n",
        "<div dir=rtl>\n",
        "<font size = \"5\">{متن مورد نظر در این جا نوشته شود.\n",
        "\n",
        " برای رفتن به خط بعد، دو بار اینتر بزنید.}</font><br />\n",
        "</div>"
      ],
      "metadata": {
        "id": "84fLn79trTr3"
      }
    },
    {
      "cell_type": "code",
      "source": [
        "#@title Q6 - Part 7 (25%)\n",
        "###\n",
        "# ENTER YOUR CODE HERE.\n",
        "###"
      ],
      "metadata": {
        "id": "gRApv9c9rJ4g"
      },
      "execution_count": null,
      "outputs": []
    },
    {
      "cell_type": "markdown",
      "source": [
        "Q6 - Part 7 Explanation:\n",
        "<div dir=rtl>\n",
        "<font size = \"5\">{متن مورد نظر در این جا نوشته شود.\n",
        "\n",
        " برای رفتن به خط بعد، دو بار اینتر بزنید.}</font><br />\n",
        "</div>"
      ],
      "metadata": {
        "id": "GrokpQMsrdnY"
      }
    },
    {
      "cell_type": "markdown",
      "source": [
        "<div dir=rtl>\n",
        "<font size = \"5\">\t** توجه داشتید باشید کولب خود را بصورت viewer به اشتراک بگذارید. (بالا سمت راست دکمه Share قرار دارد که موقع فشردن آن یک صفحه باز می‌شود و گزینه‌ای که بصورت پیشفرض نوشته restricted را تغییر دهید)\n",
        "\n",
        "</font><br />\n",
        "</div>\n"
      ],
      "metadata": {
        "id": "7-LU-32KqUr1"
      }
    },
    {
      "cell_type": "markdown",
      "source": [
        "<div dir=rtl>\n",
        "<font size = \"5\">\n",
        "**\tحتماً توجه کنید که در هنگام تحویل و آخرین ویرایش روی کد خود، خروجی همه‌ی بلاک‌ها، خروجی درست و نهایی همان بلاک باشد. (بطور مثال ممکن است تغییری در کد بدهید و رویت کنید که خروجی درست نیست و فقط تغییرتان را undo کرده ولی دوباره اجرایش نکنید و خروجی سلول همان خروجی دوم که جواب اشتباهی بود بماند).\n",
        "\n",
        "</font><br />\n",
        "</div>\n"
      ],
      "metadata": {
        "id": "7f85nwNXqUXV"
      }
    },
    {
      "cell_type": "markdown",
      "source": [
        "<div dir=rtl>\n",
        "<font size = \"5\">\t**\tنکته مهم: لطفاً بعد از تحویل تمرین دیگر کد گوگل کولب خود را باز نکنید و حتی کوچکترین تغییری (حتی در حد ایجاد یک space) در آن ندهید.(چرا که تاریخ آخرین ویرایش آن تغییر کرده و برای مصحح محترم قابل احراز نیست که این کد شما چه زمانی نوشته شده است (از نظر موعد قابل پذیرش برای تحویل) و بخش کدنویسی آن تمرین از شما پذیرفته نخواهد شد)\n",
        "\n",
        "</font><br />\n",
        "</div>\n"
      ],
      "metadata": {
        "id": "lL5hkf4dqUNf"
      }
    },
    {
      "cell_type": "markdown",
      "source": [
        "<div dir=rtl>\n",
        "<font size = \"5\">\tنحوه ارسال تمارین: PDF حل تمارین تشریحی به همراه کدهای نوشته شده (اشتراک لینک گوگل کولب شما (داخل Notepad و ابتدای گزارش تشریحی) + تحویل pdf پرینت آن + دانلود .ipynb آن) در قالب یک فایل فشرده zip به اسم HW1_Num باشند که Num شماره دانشجویی شما است مانند HW1_400133001 و فقط از طریق سامانه ی مدیریت یادگیری Courses ارسال بفرمایید. با آرزوی موفقیت برای شما  \n",
        "</font><br />\n",
        "</div>\n"
      ],
      "metadata": {
        "id": "u8U799FGpWLI"
      }
    }
  ]
}